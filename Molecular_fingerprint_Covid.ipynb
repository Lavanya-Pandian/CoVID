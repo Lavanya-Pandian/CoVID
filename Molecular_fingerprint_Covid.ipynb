{
 "cells": [
  {
   "cell_type": "code",
   "execution_count": null,
   "metadata": {},
   "outputs": [],
   "source": [
    "Molecular fingerprinting_COVID"
   ]
  },
  {
   "cell_type": "code",
   "execution_count": 49,
   "metadata": {},
   "outputs": [],
   "source": [
    "# Import required modules\n",
    "import numpy as np\n",
    "import pandas as pd\n",
    "import os\n",
    "import rdkit as rd\n",
    "from rdkit.Chem.Fingerprints import FingerprintMols\n",
    "from rdkit import RDConfig\n",
    "from rdkit.Chem import PandasTools\n",
    "from rdkit import Chem\n",
    "from rdkit.Chem.Draw import IPythonConsole\n",
    "from rdkit.Chem import rdFingerprintGenerator\n",
    "from rdkit import DataStructs\n",
    "from rdkit.Chem import AllChem as Chem\n",
    "from rdkit.Chem.rdMolDescriptors import GetAtomPairFingerprint\n",
    "from rdkit.Chem.AtomPairs import Torsions\n",
    "os.chdir(\"C:/Users/Welcome/Desktop/MACCS/Main_data\")\n",
    "from collections import Counter"
   ]
  },
  {
   "cell_type": "code",
   "execution_count": 50,
   "metadata": {
    "scrolled": true
   },
   "outputs": [],
   "source": [
    "import sklearn as sk\n",
    "from sklearn import metrics\n",
    "from sklearn.model_selection import cross_val_score\n",
    "from sklearn.model_selection import train_test_split\n",
    "from sklearn.model_selection import validation_curve\n",
    "from sklearn.linear_model import LogisticRegression\n",
    "from sklearn.linear_model import LogisticRegressionCV\n",
    "from imblearn.over_sampling import ADASYN\n",
    "from sklearn.metrics import classification_report\n",
    "from sklearn.neighbors import KNeighborsClassifier\n",
    "from sklearn.model_selection import GridSearchCV\n",
    "from sklearn.ensemble import GradientBoostingClassifier"
   ]
  },
  {
   "cell_type": "code",
   "execution_count": 51,
   "metadata": {},
   "outputs": [],
   "source": [
    "import matplotlib.pyplot as plt\n",
    "import seaborn as sns"
   ]
  },
  {
   "cell_type": "code",
   "execution_count": 52,
   "metadata": {
    "scrolled": false
   },
   "outputs": [],
   "source": [
    "leads_data_covid = pd.read_csv(\"combined_data.csv\")\n"
   ]
  },
  {
   "cell_type": "code",
   "execution_count": 53,
   "metadata": {},
   "outputs": [],
   "source": [
    "#conver smiles to mol \n",
    "leads_data_covid[\"mol\"] = [Chem.MolFromSmiles(x) for x in leads_data_covid[\"smiles\"]]\n"
   ]
  },
  {
   "cell_type": "code",
   "execution_count": 54,
   "metadata": {},
   "outputs": [],
   "source": [
    "#morgan\n",
    "leads_data_covid[\"morgan_fingerprint\"] = [Chem.GetMorganFingerprintAsBitVect(m, 2, nBits = 2048) for m in leads_data_covid['mol']]\n",
    "morgan_fingerprint = [Chem.GetMorganFingerprintAsBitVect(m, 2, nBits = 2048) for m in leads_data_covid['mol']]\n",
    "morgan_fingerprint_np = []\n",
    "for fp in morgan_fingerprint:\n",
    "  arr = np.zeros((1,))\n",
    "  DataStructs.ConvertToNumpyArray(fp, arr)\n",
    "  morgan_fingerprint_np.append(arr)"
   ]
  },
  {
   "cell_type": "code",
   "execution_count": 55,
   "metadata": {},
   "outputs": [],
   "source": [
    "#Daylight fingerprint\n",
    "leads_data_covid[\"rdkit_fingerprint\"] = [Chem.RDKFingerprint(m) for m in leads_data_covid[\"mol\"]]\n",
    "rdkit_fingerprint = [Chem.RDKFingerprint(m) for m in leads_data_covid[\"mol\"]]\n",
    "rdkit_fingerprint_np = []\n",
    "for fp in rdkit_fingerprint:\n",
    "  arr = np.zeros((1,))\n",
    "  DataStructs.ConvertToNumpyArray(fp, arr)\n",
    "  rdkit_fingerprint_np.append(arr)"
   ]
  },
  {
   "cell_type": "code",
   "execution_count": 56,
   "metadata": {},
   "outputs": [],
   "source": [
    "#Atom-pair fingerprints\n",
    "leads_data_covid[\"AtomPair_Fingerprint\"] = [Chem.GetHashedAtomPairFingerprintAsBitVect(m) for m in leads_data_covid[\"mol\"]]\n",
    "AtomPair_Fingerprint = [Chem.GetHashedAtomPairFingerprintAsBitVect(m) for m in leads_data_covid[\"mol\"]]\n",
    "AtomPair_Fingerprint_np = []\n",
    "for fp in AtomPair_Fingerprint:\n",
    "  arr = np.zeros((1,))\n",
    "  DataStructs.ConvertToNumpyArray(fp, arr)\n",
    "  AtomPair_Fingerprint_np.append(arr)"
   ]
  },
  {
   "cell_type": "code",
   "execution_count": 57,
   "metadata": {},
   "outputs": [],
   "source": [
    "#torsion fingerprints\n",
    "leads_data_covid[\"TorsionFingerprint\"] = TorsionFingerprint = [Chem.GetHashedTopologicalTorsionFingerprintAsBitVect(m) for m in leads_data_covid[\"mol\"]]\n",
    "TorsionFingerprint = [Chem.GetHashedTopologicalTorsionFingerprintAsBitVect(m) for m in leads_data_covid[\"mol\"]]\n",
    "TorsionFingerprint_np = []\n",
    "for fp in TorsionFingerprint:\n",
    "  arr = np.zeros((1,))\n",
    "  DataStructs.ConvertToNumpyArray(fp, arr)\n",
    "  TorsionFingerprint_np.append(arr)"
   ]
  },
  {
   "cell_type": "code",
   "execution_count": 58,
   "metadata": {},
   "outputs": [],
   "source": [
    "x_morgan = morgan_fingerprint_np\n",
    "x_rdkit = rdkit_fingerprint_np\n",
    "x_Atompair = AtomPair_Fingerprint_np\n",
    "x_torsion = TorsionFingerprint_np\n",
    "y = leads_data_covid.active.values"
   ]
  },
  {
   "cell_type": "code",
   "execution_count": 60,
   "metadata": {},
   "outputs": [
    {
     "name": "stdout",
     "output_type": "stream",
     "text": [
      "Morgan data: [(0, 1070), (1, 1003)] Daylight-like data: [(0, 1013), (1, 1003)] Atom-pair data: [(0, 1013), (1, 1003)] Torsion data: [(0, 1013), (1, 1003)]\n"
     ]
    }
   ],
   "source": [
    "x_morg_adasyn, y_morg_adasyn = ADASYN().fit_resample(x_morgan, y)\n",
    "morgan_count = sorted(Counter(y_morg_rsmp).items())\n",
    "\n",
    "x_rd_adasyn, y_rd_adasyn = ADASYN().fit_resample(x_rdkit, y)\n",
    "rdkit_count = sorted(Counter(y_rd_rsmp).items())\n",
    "\n",
    "x_AP_adasyn, y_AP_adasyn = ADASYN().fit_resample(x_Atompair, y)\n",
    "Atompair_count = sorted(Counter(y_rd_rsmp).items())\n",
    "\n",
    "x_torsion_adasyn, y_torsion_adasyn = ADASYN().fit_resample(x_torsion, y)\n",
    "torsion_count = sorted(Counter(y_rd_rsmp).items())\n",
    "\n",
    "print(\"Morgan data:\", morgan_count, \"Daylight-like data:\", rdkit_count, \"Atom-pair data:\", Atompair_count, \"Torsion data:\", torsion_count)\n"
   ]
  },
  {
   "cell_type": "code",
   "execution_count": 61,
   "metadata": {},
   "outputs": [],
   "source": [
    "#Logistic Regression\n",
    "#spliting training & test set\n",
    "x_morg_train, x_morg_test, y_morg_train, y_morg_test = train_test_split(x_morg_adasyn, y_morg_adasyn, test_size=0.15, random_state=1)\n",
    "x_morg_train, x_morg_val, y_morg_train, y_morg_val = train_test_split(x_morg_train, y_morg_train, test_size=0.15, random_state=1)\n",
    "x_rd_train, x_rd_test, y_rd_train, y_rd_test = train_test_split(x_rd_adasyn, y_rd_adasyn, test_size=0.15, random_state=1)\n",
    "x_rd_train, x_rd_val, y_rd_train, y_rd_val = train_test_split(x_rd_train, y_rd_train, test_size=0.15, random_state=1)\n",
    "x_AP_train, x_AP_test, y_AP_train, y_AP_test = train_test_split(x_AP_adasyn, y_AP_adasyn, test_size=0.15, random_state=1)\n",
    "x_AP_train, x_AP_val, y_AP_train, y_AP_val = train_test_split(x_AP_train, y_AP_train, test_size=0.15, random_state=1)\n",
    "x_torsion_train, x_torsion_test, y_torsion_train, y_torsion_test = train_test_split(x_torsion_adasyn, y_torsion_adasyn, test_size=0.15, random_state=1)\n",
    "x_torsion_train, x_torsion_val, y_torsion_train, y_torsion_val = train_test_split(x_torsion_train, y_torsion_train, test_size=0.15, random_state=1)"
   ]
  },
  {
   "cell_type": "code",
   "execution_count": 62,
   "metadata": {},
   "outputs": [
    {
     "name": "stdout",
     "output_type": "stream",
     "text": [
      "Accuracy of Model with Cross Validation is: 90.18752952290978 (+/- 0.02)\n"
     ]
    },
    {
     "name": "stderr",
     "output_type": "stream",
     "text": [
      "C:\\ProgramData\\Anaconda3\\lib\\site-packages\\sklearn\\linear_model\\_logistic.py:940: ConvergenceWarning: lbfgs failed to converge (status=1):\n",
      "STOP: TOTAL NO. of ITERATIONS REACHED LIMIT.\n",
      "\n",
      "Increase the number of iterations (max_iter) or scale the data as shown in:\n",
      "    https://scikit-learn.org/stable/modules/preprocessing.html\n",
      "Please also refer to the documentation for alternative solver options:\n",
      "    https://scikit-learn.org/stable/modules/linear_model.html#logistic-regression\n",
      "  extra_warning_msg=_LOGISTIC_SOLVER_CONVERGENCE_MSG)\n",
      "C:\\ProgramData\\Anaconda3\\lib\\site-packages\\sklearn\\linear_model\\_logistic.py:940: ConvergenceWarning: lbfgs failed to converge (status=1):\n",
      "STOP: TOTAL NO. of ITERATIONS REACHED LIMIT.\n",
      "\n",
      "Increase the number of iterations (max_iter) or scale the data as shown in:\n",
      "    https://scikit-learn.org/stable/modules/preprocessing.html\n",
      "Please also refer to the documentation for alternative solver options:\n",
      "    https://scikit-learn.org/stable/modules/linear_model.html#logistic-regression\n",
      "  extra_warning_msg=_LOGISTIC_SOLVER_CONVERGENCE_MSG)\n",
      "C:\\ProgramData\\Anaconda3\\lib\\site-packages\\sklearn\\linear_model\\_logistic.py:940: ConvergenceWarning: lbfgs failed to converge (status=1):\n",
      "STOP: TOTAL NO. of ITERATIONS REACHED LIMIT.\n",
      "\n",
      "Increase the number of iterations (max_iter) or scale the data as shown in:\n",
      "    https://scikit-learn.org/stable/modules/preprocessing.html\n",
      "Please also refer to the documentation for alternative solver options:\n",
      "    https://scikit-learn.org/stable/modules/linear_model.html#logistic-regression\n",
      "  extra_warning_msg=_LOGISTIC_SOLVER_CONVERGENCE_MSG)\n",
      "C:\\ProgramData\\Anaconda3\\lib\\site-packages\\sklearn\\linear_model\\_logistic.py:940: ConvergenceWarning: lbfgs failed to converge (status=1):\n",
      "STOP: TOTAL NO. of ITERATIONS REACHED LIMIT.\n",
      "\n",
      "Increase the number of iterations (max_iter) or scale the data as shown in:\n",
      "    https://scikit-learn.org/stable/modules/preprocessing.html\n",
      "Please also refer to the documentation for alternative solver options:\n",
      "    https://scikit-learn.org/stable/modules/linear_model.html#logistic-regression\n",
      "  extra_warning_msg=_LOGISTIC_SOLVER_CONVERGENCE_MSG)\n",
      "C:\\ProgramData\\Anaconda3\\lib\\site-packages\\sklearn\\linear_model\\_logistic.py:940: ConvergenceWarning: lbfgs failed to converge (status=1):\n",
      "STOP: TOTAL NO. of ITERATIONS REACHED LIMIT.\n",
      "\n",
      "Increase the number of iterations (max_iter) or scale the data as shown in:\n",
      "    https://scikit-learn.org/stable/modules/preprocessing.html\n",
      "Please also refer to the documentation for alternative solver options:\n",
      "    https://scikit-learn.org/stable/modules/linear_model.html#logistic-regression\n",
      "  extra_warning_msg=_LOGISTIC_SOLVER_CONVERGENCE_MSG)\n"
     ]
    }
   ],
   "source": [
    "lr = LogisticRegression(solver = 'lbfgs', max_iter = 1000)\n",
    "accuracy_morg = cross_val_score(lr, x_morg_train, y_morg_train, scoring='accuracy', cv = 10)\n",
    "print(\"Accuracy of Model with Cross Validation is:\",accuracy_morg.mean() * 100, \"(+/- %0.2f)\" % accuracy_morg.std())\n",
    "lr_morg_ = LogisticRegressionCV(cv=10, solver = 'lbfgs', max_iter = 1000).fit(x_morg_train, y_morg_train)"
   ]
  },
  {
   "cell_type": "code",
   "execution_count": 63,
   "metadata": {},
   "outputs": [],
   "source": [
    "def lrCV_model(x_train, y_train):\n",
    "    lr = LogisticRegression(solver = 'lbfgs', max_iter = 650)\n",
    "    model_accuracy = cross_val_score(lr, x_train, y_train, scoring='accuracy', cv = 5)\n",
    "    accuracy_printout = \"Accuracy of Model with Cross Validation is:\",model_accuracy.mean() * 100, \"(+/- %0.2f)\" % model_accuracy.std()\n",
    "    lr_fit = LogisticRegressionCV(cv=5, solver = 'lbfgs', max_iter = 650, multi_class = \"ovr\", n_jobs = -1).fit(x_train, y_train)\n",
    "    \n",
    "    return lr_fit"
   ]
  },
  {
   "cell_type": "code",
   "execution_count": 64,
   "metadata": {},
   "outputs": [],
   "source": [
    "lr_morg = lrCV_model(x_morg_train, y_morg_train)\n",
    "lr_rd = lrCV_model(x_rd_train, y_rd_train)\n",
    "lr_AP = lrCV_model(x_AP_train, y_AP_train)\n",
    "lr_torsion = lrCV_model(x_torsion_train, y_torsion_train)"
   ]
  },
  {
   "cell_type": "code",
   "execution_count": 65,
   "metadata": {},
   "outputs": [
    {
     "name": "stdout",
     "output_type": "stream",
     "text": [
      "[[154   6]\n",
      " [ 16 127]]\n"
     ]
    }
   ],
   "source": [
    "predictions_morg_test = lr_morg.predict(x_morg_test)\n",
    "cm_morg_test = metrics.confusion_matrix(y_morg_test, predictions_morg_test)\n",
    "print(cm_morg_test)"
   ]
  },
  {
   "cell_type": "code",
   "execution_count": 66,
   "metadata": {},
   "outputs": [
    {
     "name": "stdout",
     "output_type": "stream",
     "text": [
      "[[106   5]\n",
      " [ 14 133]]\n"
     ]
    }
   ],
   "source": [
    "predictions_morg_val = lr_morg.predict(x_morg_val)\n",
    "cm_morg_val = metrics.confusion_matrix(y_morg_val, predictions_morg_val)\n",
    "print(cm_morg_val)"
   ]
  },
  {
   "cell_type": "code",
   "execution_count": 67,
   "metadata": {},
   "outputs": [
    {
     "name": "stdout",
     "output_type": "stream",
     "text": [
      "logistic regression classifier_train set: 0.9910775566231984\n"
     ]
    }
   ],
   "source": [
    "score_morg_train = lr_morg.score(x_morg_train, y_morg_train)\n",
    "print('logistic regression classifier_train set:', score_morg_train)"
   ]
  },
  {
   "cell_type": "code",
   "execution_count": 68,
   "metadata": {},
   "outputs": [
    {
     "name": "stdout",
     "output_type": "stream",
     "text": [
      "logistic regression classifier_test set: 0.9273927392739274\n"
     ]
    }
   ],
   "source": [
    "score_morg_test = lr_morg.score(x_morg_test, y_morg_test)\n",
    "print('logistic regression classifier_test set:', score_morg_test)"
   ]
  },
  {
   "cell_type": "code",
   "execution_count": 69,
   "metadata": {},
   "outputs": [
    {
     "name": "stdout",
     "output_type": "stream",
     "text": [
      "logistic regression classifier_validation: 0.9263565891472868\n"
     ]
    }
   ],
   "source": [
    "score_morg_val = lr_morg.score(x_morg_val, y_morg_val)\n",
    "print('logistic regression classifier_validation:', score_morg_val)"
   ]
  },
  {
   "cell_type": "code",
   "execution_count": 70,
   "metadata": {},
   "outputs": [
    {
     "name": "stdout",
     "output_type": "stream",
     "text": [
      "              precision    recall  f1-score   support\n",
      "\n",
      "           0       0.88      0.95      0.92       111\n",
      "           1       0.96      0.90      0.93       147\n",
      "\n",
      "    accuracy                           0.93       258\n",
      "   macro avg       0.92      0.93      0.93       258\n",
      "weighted avg       0.93      0.93      0.93       258\n",
      "\n"
     ]
    }
   ],
   "source": [
    "print(classification_report(y_morg_val, predictions_morg_val))"
   ]
  },
  {
   "cell_type": "code",
   "execution_count": 71,
   "metadata": {},
   "outputs": [
    {
     "name": "stdout",
     "output_type": "stream",
     "text": [
      "[[112   2]\n",
      " [ 21 117]]\n",
      "logistic regression classifier_train set: 0.9929971988795518\n",
      "logistic regression classifier_test set: 0.8956228956228957\n",
      "logistic regression classifier_validation set: 0.9087301587301587\n",
      "              precision    recall  f1-score   support\n",
      "\n",
      "           0       0.84      0.98      0.91       114\n",
      "           1       0.98      0.85      0.91       138\n",
      "\n",
      "    accuracy                           0.91       252\n",
      "   macro avg       0.91      0.92      0.91       252\n",
      "weighted avg       0.92      0.91      0.91       252\n",
      "\n"
     ]
    }
   ],
   "source": [
    "#confusion matrix\n",
    "predictions_rd_test = lr_rd.predict(x_rd_test)\n",
    "cm_rd_test = metrics.confusion_matrix(y_rd_test, predictions_rd_test)\n",
    "predictions_rd_val = lr_rd.predict(x_rd_val)\n",
    "cm_rd_val = metrics.confusion_matrix(y_rd_val, predictions_rd_val)\n",
    "print(cm_rd_val)\n",
    "score_rd_train = lr_rd.score(x_rd_train, y_rd_train)\n",
    "print('logistic regression classifier_train set:', score_rd_train)\n",
    "score_rd_test = lr_rd.score(x_rd_test, y_rd_test)\n",
    "print('logistic regression classifier_test set:', score_rd_test)\n",
    "score_rd_val = lr_rd.score(x_rd_val, y_rd_val)\n",
    "print('logistic regression classifier_validation set:', score_rd_val)\n",
    "print(classification_report(y_rd_val, predictions_rd_val))"
   ]
  },
  {
   "cell_type": "code",
   "execution_count": 72,
   "metadata": {},
   "outputs": [
    {
     "name": "stdout",
     "output_type": "stream",
     "text": [
      "[[145   7]\n",
      " [ 19 129]]\n",
      "[[127   5]\n",
      " [ 12 111]]\n",
      "Accuracy of logistic regression classifier on train set: 0.9923822714681441\n",
      "Accuracy of logistic regression classifier on test set: 0.9133333333333333\n",
      "Accuracy of logistic regression classifier on validation set: 0.9333333333333333\n",
      "              precision    recall  f1-score   support\n",
      "\n",
      "           0       0.91      0.96      0.94       132\n",
      "           1       0.96      0.90      0.93       123\n",
      "\n",
      "    accuracy                           0.93       255\n",
      "   macro avg       0.94      0.93      0.93       255\n",
      "weighted avg       0.93      0.93      0.93       255\n",
      "\n"
     ]
    }
   ],
   "source": [
    "predictions_AP_test = lr_AP.predict(x_AP_test)\n",
    "cm_AP_test = metrics.confusion_matrix(y_AP_test, predictions_AP_test)\n",
    "print(cm_AP_test)\n",
    "predictions_AP_val = lr_AP.predict(x_AP_val)\n",
    "cm_AP_val = metrics.confusion_matrix(y_AP_val, predictions_AP_val)\n",
    "print(cm_AP_val)\n",
    "score_AP_train = lr_AP.score(x_AP_train, y_AP_train)\n",
    "print('Accuracy of logistic regression classifier on train set:', score_AP_train)\n",
    "score_AP_test = lr_AP.score(x_AP_test, y_AP_test)\n",
    "print('Accuracy of logistic regression classifier on test set:', score_AP_test)\n",
    "score_AP_val = lr_AP.score(x_AP_val, y_AP_val)\n",
    "print('Accuracy of logistic regression classifier on validation set:', score_AP_val)\n",
    "print(classification_report(y_AP_val, predictions_AP_val))"
   ]
  },
  {
   "cell_type": "code",
   "execution_count": 73,
   "metadata": {},
   "outputs": [
    {
     "name": "stdout",
     "output_type": "stream",
     "text": [
      "[[144   8]\n",
      " [ 21 127]]\n",
      "[[130   2]\n",
      " [ 20 103]]\n",
      "Accuracy of logistic regression classifier on train set: 0.9882271468144044\n",
      "Accuracy of logistic regression classifier on test set: 0.9033333333333333\n",
      "Accuracy of logistic regression classifier on validation set: 0.9137254901960784\n",
      "              precision    recall  f1-score   support\n",
      "\n",
      "           0       0.87      0.98      0.92       132\n",
      "           1       0.98      0.84      0.90       123\n",
      "\n",
      "    accuracy                           0.91       255\n",
      "   macro avg       0.92      0.91      0.91       255\n",
      "weighted avg       0.92      0.91      0.91       255\n",
      "\n"
     ]
    }
   ],
   "source": [
    "predictions_torsion_test = lr_torsion.predict(x_torsion_test)\n",
    "cm_torsion_test = metrics.confusion_matrix(y_torsion_test, predictions_torsion_test)\n",
    "print(cm_torsion_test)\n",
    "predictions_torsion_val = lr_torsion.predict(x_torsion_val)\n",
    "cm_torsion_val = metrics.confusion_matrix(y_torsion_val, predictions_torsion_val)\n",
    "print(cm_torsion_val)\n",
    "score_torsion_train = lr_torsion.score(x_torsion_train, y_torsion_train)\n",
    "print('Accuracy of logistic regression classifier on train set:', score_torsion_train)\n",
    "score_torsion_test = lr_torsion.score(x_torsion_test, y_torsion_test)\n",
    "print('Accuracy of logistic regression classifier on test set:', score_torsion_test)\n",
    "score_torsion_val = lr_torsion.score(x_torsion_val, y_torsion_val)\n",
    "print('Accuracy of logistic regression classifier on validation set:', score_torsion_val)\n",
    "print(classification_report(y_torsion_val, predictions_torsion_val))"
   ]
  },
  {
   "cell_type": "code",
   "execution_count": 74,
   "metadata": {},
   "outputs": [
    {
     "name": "stdout",
     "output_type": "stream",
     "text": [
      "Fitting 2 folds for each of 3 candidates, totalling 6 fits\n"
     ]
    },
    {
     "name": "stderr",
     "output_type": "stream",
     "text": [
      "[Parallel(n_jobs=-1)]: Using backend LokyBackend with 4 concurrent workers.\n",
      "[Parallel(n_jobs=-1)]: Done   6 out of   6 | elapsed:  3.0min remaining:    0.0s\n",
      "[Parallel(n_jobs=-1)]: Done   6 out of   6 | elapsed:  3.0min finished\n"
     ]
    },
    {
     "data": {
      "text/plain": [
       "0.6877214006843636"
      ]
     },
     "execution_count": 74,
     "metadata": {},
     "output_type": "execute_result"
    }
   ],
   "source": [
    "knn = KNeighborsClassifier()\n",
    "grid_params = {'n_neighbors': [3, 5, 7], 'weights': ['distance'], 'metric': ['euclidean']}\n",
    "knn_cv = GridSearchCV(knn, grid_params, cv=2, verbose = 1, n_jobs = -1)\n",
    "knn_morg = knn_cv.fit(x_morg_train, y_morg_train)\n",
    "knn_cv.best_params_\n",
    "knn_cv.best_score_"
   ]
  },
  {
   "cell_type": "code",
   "execution_count": 75,
   "metadata": {},
   "outputs": [
    {
     "name": "stdout",
     "output_type": "stream",
     "text": [
      "0.7966666666666666\n",
      "0.7533333333333333\n",
      "0.7433333333333333\n"
     ]
    }
   ],
   "source": [
    "knn_3n = KNeighborsClassifier(n_neighbors=3)\n",
    "knn_AP = knn_3n.fit(x_AP_train, y_AP_train)\n",
    "knn_5n = KNeighborsClassifier(n_neighbors=5)\n",
    "knn_AP5 = knn_5n.fit(x_AP_train, y_AP_train)\n",
    "knn_7n = KNeighborsClassifier(n_neighbors=7)\n",
    "knn_AP7 = knn_7n.fit(x_AP_train, y_AP_train)\n",
    "knn_AP_3n = knn_AP.score(x_AP_test, y_AP_test)\n",
    "print(knn_AP_3n)\n",
    "knn_AP_5n = knn_AP5.score(x_AP_test, y_AP_test)\n",
    "print(knn_AP_5n)\n",
    "knn_AP_7n = knn_AP7.score(x_AP_test, y_AP_test)\n",
    "print(knn_AP_7n)\n"
   ]
  },
  {
   "cell_type": "code",
   "execution_count": 77,
   "metadata": {},
   "outputs": [],
   "source": [
    "knn3 = KNeighborsClassifier(n_neighbors=3)\n",
    "knn_morg = knn3.fit(x_morg_train, y_morg_train)\n",
    "knn_rd = knn3.fit(x_rd_train, y_rd_train)\n",
    "knn_AP = knn3.fit(x_AP_train, y_AP_train)\n",
    "knn_torsion = knn3.fit(x_torsion_train, y_torsion_train)\n",
    "def mod_acc_knn(x_train, y_train, x_test, y_test):\n",
    "    knn3 = KNeighborsClassifier(n_neighbors=3)\n",
    "    knn_fp = knn3.fit(x_train, y_train)\n",
    "    score_fp_test_knn = knn_fp.score(x_test, y_test)\n",
    "    return score_fp_test_knn"
   ]
  },
  {
   "cell_type": "code",
   "execution_count": 78,
   "metadata": {},
   "outputs": [
    {
     "name": "stdout",
     "output_type": "stream",
     "text": [
      "0.8558682223747426\n",
      "0.8711484593837535\n",
      "0.8885041551246537\n",
      "0.8552631578947368\n"
     ]
    }
   ],
   "source": [
    "knn_morg_acc_train = mod_acc_knn(x_morg_train, y_morg_train, x_morg_train, y_morg_train)\n",
    "print(knn_morg_acc_train)\n",
    "knn_rd_acc_train = mod_acc_knn(x_rd_train, y_rd_train, x_rd_train, y_rd_train)\n",
    "print(knn_rd_acc_train)\n",
    "knn_AP_acc_train = mod_acc_knn(x_AP_train, y_AP_train, x_AP_train, y_AP_train)\n",
    "print(knn_AP_acc_train)\n",
    "knn_torsion_acc_train = mod_acc_knn(x_torsion_train, y_torsion_train, x_torsion_train, y_torsion_train)\n",
    "print(knn_torsion_acc_train)"
   ]
  },
  {
   "cell_type": "code",
   "execution_count": 79,
   "metadata": {},
   "outputs": [
    {
     "name": "stdout",
     "output_type": "stream",
     "text": [
      "0.7722772277227723\n",
      "0.8215488215488216\n",
      "0.7966666666666666\n",
      "0.7666666666666667\n"
     ]
    }
   ],
   "source": [
    "knn_morg_acc_test = mod_acc_knn(x_morg_train, y_morg_train, x_morg_test, y_morg_test)\n",
    "print(knn_morg_acc_test)\n",
    "knn_rd_acc_test = mod_acc_knn(x_rd_train, y_rd_train, x_rd_test, y_rd_test)\n",
    "print(knn_rd_acc_test)\n",
    "knn_AP_acc_test = mod_acc_knn(x_AP_train, y_AP_train, x_AP_test, y_AP_test)\n",
    "print(knn_AP_acc_test)\n",
    "knn_torsion_acc_test = mod_acc_knn(x_torsion_train, y_torsion_train, x_torsion_test, y_torsion_test)\n",
    "print(knn_torsion_acc_test)"
   ]
  },
  {
   "cell_type": "code",
   "execution_count": 80,
   "metadata": {},
   "outputs": [
    {
     "name": "stdout",
     "output_type": "stream",
     "text": [
      "0.751937984496124\n",
      "0.7817460317460317\n",
      "0.807843137254902\n",
      "0.7490196078431373\n"
     ]
    }
   ],
   "source": [
    "knn_morg_acc_val = mod_acc_knn(x_morg_train, y_morg_train, x_morg_val, y_morg_val)\n",
    "print(knn_morg_acc_val)\n",
    "knn_rd_acc_val = mod_acc_knn(x_rd_train, y_rd_train, x_rd_val, y_rd_val)\n",
    "print(knn_rd_acc_val)\n",
    "knn_AP_acc_val = mod_acc_knn(x_AP_train, y_AP_train, x_AP_val, y_AP_val)\n",
    "print(knn_AP_acc_val)\n",
    "knn_torsion_acc_val = mod_acc_knn(x_torsion_train, y_torsion_train, x_torsion_val, y_torsion_val)\n",
    "print(knn_torsion_acc_val)"
   ]
  },
  {
   "cell_type": "code",
   "execution_count": 86,
   "metadata": {},
   "outputs": [],
   "source": [
    "def auc_calc(x_val, y_val, model):\n",
    "    prob = model.predict_proba(x_val)\n",
    "    prob = prob[:, 1]\n",
    "    auc = metrics.roc_auc_score(y_val, prob)\n",
    "    return 'AUC: %.6f' % auc"
   ]
  },
  {
   "cell_type": "code",
   "execution_count": 87,
   "metadata": {},
   "outputs": [
    {
     "name": "stdout",
     "output_type": "stream",
     "text": [
      "AUC_logistic regression:  AUC: 0.976282\n",
      "AUC_k-nearest naighbor:  AUC: 0.355396\n"
     ]
    }
   ],
   "source": [
    "morg_lr_auc = auc_calc(x_morg_val, y_morg_val, lr_morg)\n",
    "print(\"AUC_logistic regression: \", morg_lr_auc)\n",
    "morg_knn_auc = auc_calc(x_morg_val, y_morg_val, knn_morg)\n",
    "print(\"AUC_k-nearest naighbor: \", morg_knn_auc)\n"
   ]
  },
  {
   "cell_type": "code",
   "execution_count": 88,
   "metadata": {},
   "outputs": [
    {
     "name": "stdout",
     "output_type": "stream",
     "text": [
      "AUC_logistic regression:  AUC: 0.953216\n",
      "AUC_k-nearest neighbor:  AUC: 0.487859\n"
     ]
    }
   ],
   "source": [
    "rd_lr_auc = auc_calc(x_rd_val, y_rd_val, lr_rd)\n",
    "print(\"AUC_logistic regression: \", rd_lr_auc)\n",
    "rd_knn_auc = auc_calc(x_rd_val, y_rd_val, knn_rd)\n",
    "print(\"AUC_k-nearest neighbor: \", rd_knn_auc)\n"
   ]
  },
  {
   "cell_type": "code",
   "execution_count": 89,
   "metadata": {},
   "outputs": [
    {
     "name": "stdout",
     "output_type": "stream",
     "text": [
      "AUC_logistic regression:  AUC: 0.964400\n",
      "AUC_k-nearest naighbor:  AUC: 0.481245\n"
     ]
    }
   ],
   "source": [
    "AP_lr_auc = auc_calc(x_AP_val, y_AP_val, lr_AP)\n",
    "print(\"AUC_logistic regression: \", AP_lr_auc)\n",
    "AP_knn_auc = auc_calc(x_AP_val, y_AP_val, knn_AP)\n",
    "print(\"AUC_k-nearest naighbor: \", AP_knn_auc)\n"
   ]
  },
  {
   "cell_type": "code",
   "execution_count": 90,
   "metadata": {},
   "outputs": [
    {
     "name": "stdout",
     "output_type": "stream",
     "text": [
      "AUC_logistic regression:  AUC: 0.918576\n",
      "AUC_k-nearest naighbor:  AUC: 0.805525\n"
     ]
    }
   ],
   "source": [
    "torsion_lr_auc = auc_calc(x_torsion_val, y_torsion_val, lr_torsion)\n",
    "print(\"AUC_logistic regression: \", torsion_lr_auc)\n",
    "torsion_knn_auc = auc_calc(x_torsion_val, y_torsion_val, knn_torsion)\n",
    "print(\"AUC_k-nearest naighbor: \", torsion_knn_auc)\n"
   ]
  },
  {
   "cell_type": "code",
   "execution_count": 91,
   "metadata": {},
   "outputs": [
    {
     "name": "stdout",
     "output_type": "stream",
     "text": [
      "f1-score 0.926628\n",
      "f1-score 0.313015\n"
     ]
    }
   ],
   "source": [
    "def f1score(x_val, y_val, model):\n",
    "    predictions = model.predict(x_val)\n",
    "    clrpt = classification_report(y_val, predictions, output_dict = True)\n",
    "    d = clrpt[\"weighted avg\"]\n",
    "    f1 = d['f1-score']\n",
    "    return 'f1-score %.6f' % f1\n",
    "morg_lr_f1 = f1score(x_morg_val, y_morg_val, lr_morg)\n",
    "morg_knn_f1 = f1score(x_morg_val, y_morg_val, knn_morg)\n",
    "print(morg_lr_f1)\n",
    "print(morg_knn_f1)\n"
   ]
  },
  {
   "cell_type": "code",
   "execution_count": 92,
   "metadata": {},
   "outputs": [
    {
     "name": "stdout",
     "output_type": "stream",
     "text": [
      "f1-score 0.908867\n",
      "f1-score 0.323342\n"
     ]
    }
   ],
   "source": [
    "rd_lr_f1 = f1score(x_rd_val, y_rd_val, lr_rd)\n",
    "rd_knn_f1 = f1score(x_rd_val, y_rd_val, knn_rd)\n",
    "print(rd_lr_f1)\n",
    "print(rd_knn_f1)\n"
   ]
  },
  {
   "cell_type": "code",
   "execution_count": 93,
   "metadata": {},
   "outputs": [
    {
     "name": "stdout",
     "output_type": "stream",
     "text": [
      "f1-score 0.933218\n",
      "f1-score 0.374485\n"
     ]
    }
   ],
   "source": [
    "AP_lr_f1 = f1score(x_AP_val, y_AP_val, lr_AP)\n",
    "AP_knn_f1 = f1score(x_AP_val, y_AP_val, knn_AP)\n",
    "print(AP_lr_f1)\n",
    "print(AP_knn_f1)\n"
   ]
  },
  {
   "cell_type": "code",
   "execution_count": 94,
   "metadata": {},
   "outputs": [
    {
     "name": "stdout",
     "output_type": "stream",
     "text": [
      "f1-score 0.913073\n",
      "f1-score 0.735035\n"
     ]
    }
   ],
   "source": [
    "torsion_lr_f1 = f1score(x_torsion_val, y_torsion_val, lr_torsion)\n",
    "torsion_knn_f1 = f1score(x_torsion_val, y_torsion_val, knn_torsion)\n",
    "print(torsion_lr_f1)\n",
    "print(torsion_knn_f1)\n"
   ]
  },
  {
   "cell_type": "code",
   "execution_count": null,
   "metadata": {},
   "outputs": [],
   "source": []
  }
 ],
 "metadata": {
  "kernelspec": {
   "display_name": "Python 3",
   "language": "python",
   "name": "python3"
  },
  "language_info": {
   "codemirror_mode": {
    "name": "ipython",
    "version": 3
   },
   "file_extension": ".py",
   "mimetype": "text/x-python",
   "name": "python",
   "nbconvert_exporter": "python",
   "pygments_lexer": "ipython3",
   "version": "3.7.3"
  }
 },
 "nbformat": 4,
 "nbformat_minor": 4
}
