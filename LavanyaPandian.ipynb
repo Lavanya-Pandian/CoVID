{
 "cells": [
  {
   "cell_type": "code",
   "execution_count": 1,
   "metadata": {},
   "outputs": [
    {
     "name": "stderr",
     "output_type": "stream",
     "text": [
      "RDKit WARNING: [12:10:59] Enabling RDKit 2019.09.3 jupyter extensions\n"
     ]
    }
   ],
   "source": [
    "#data handling\n",
    "import numpy as np\n",
    "import pandas as pd\n",
    "import os\n",
    "# RDKit modules\n",
    "import rdkit as rd\n",
    "from rdkit.Chem.Fingerprints import FingerprintMols\n",
    "from rdkit import RDConfig\n",
    "from rdkit.Chem import PandasTools\n",
    "from rdkit import Chem\n",
    "from rdkit.Chem.Draw import IPythonConsole\n",
    "from rdkit.Chem import rdFingerprintGenerator\n",
    "from rdkit import DataStructs\n",
    "from rdkit.Chem import AllChem as Chem\n",
    "from rdkit.Chem.rdMolDescriptors import GetAtomPairFingerprint\n",
    "from rdkit.Chem.AtomPairs import Torsions\n",
    "os.chdir(\"C:/Users/Welcome/Desktop/MACCS/Main_data\")\n",
    "from collections import Counter"
   ]
  },
  {
   "cell_type": "code",
   "execution_count": 2,
   "metadata": {},
   "outputs": [
    {
     "name": "stderr",
     "output_type": "stream",
     "text": [
      "Using TensorFlow backend.\n"
     ]
    }
   ],
   "source": [
    "# modeling tools\n",
    "import sklearn as sk\n",
    "from sklearn import metrics\n",
    "from sklearn.model_selection import cross_val_score\n",
    "from sklearn.model_selection import train_test_split\n",
    "from sklearn.model_selection import validation_curve\n",
    "from sklearn.linear_model import LogisticRegression\n",
    "from sklearn.linear_model import LogisticRegressionCV\n",
    "from imblearn.over_sampling import ADASYN\n",
    "from sklearn.metrics import classification_report\n",
    "from sklearn.neighbors import KNeighborsClassifier\n",
    "from sklearn.model_selection import GridSearchCV\n",
    "from sklearn.ensemble import GradientBoostingClassifier"
   ]
  },
  {
   "cell_type": "code",
   "execution_count": 3,
   "metadata": {},
   "outputs": [],
   "source": [
    "# graphing tools\n",
    "import matplotlib.pyplot as plt\n",
    "import seaborn as sns"
   ]
  },
  {
   "cell_type": "code",
   "execution_count": 4,
   "metadata": {
    "scrolled": false
   },
   "outputs": [],
   "source": [
    "leads_data_covid = pd.read_csv(\"combined_data.csv\")\n"
   ]
  },
  {
   "cell_type": "code",
   "execution_count": 5,
   "metadata": {},
   "outputs": [],
   "source": [
    "#smiles to mol \n",
    "leads_data_covid[\"mol\"] = [Chem.MolFromSmiles(x) for x in leads_data_covid[\"smiles\"]]\n"
   ]
  },
  {
   "cell_type": "code",
   "execution_count": 6,
   "metadata": {},
   "outputs": [],
   "source": [
    "#count the number of unique rows in the SMILES column\n",
    "leads_data_covid['smiles'].nunique()\n",
    "\n",
    "#Compare that with total rows\n",
    "leads_data_covid['smiles'].count()\n",
    "\n",
    "#we can drop the duplicated ones\n",
    "leads_data_covid = leads_data_covid.drop_duplicates(['smiles'])"
   ]
  },
  {
   "cell_type": "code",
   "execution_count": 7,
   "metadata": {},
   "outputs": [],
   "source": [
    "#create a column for the morgan fingerprints\n",
    "leads_data_covid[\"morg_fp\"] = [Chem.GetMorganFingerprintAsBitVect(m, 2, nBits = 2048) for m in leads_data_covid['mol']]\n",
    "\n",
    "# generate morgan fingeprints with radius 2 contained in a list\n",
    "morg_fp = [Chem.GetMorganFingerprintAsBitVect(m, 2, nBits = 2048) for m in leads_data_covid['mol']]\n",
    "\n",
    "# convert the RDKit explicit vectors into numpy arrays\n",
    "morg_fp_np = []\n",
    "for fp in morg_fp:\n",
    "  arr = np.zeros((1,))\n",
    "\n",
    "  DataStructs.ConvertToNumpyArray(fp, arr)\n",
    "  morg_fp_np.append(arr)"
   ]
  },
  {
   "cell_type": "code",
   "execution_count": 8,
   "metadata": {},
   "outputs": [],
   "source": [
    "#create a column for the RDKit fingerprints\n",
    "leads_data_covid[\"rd_fp\"] = [Chem.RDKFingerprint(m) for m in leads_data_covid[\"mol\"]]\n",
    "\n",
    "#The fingerprinting algorithm used is similar to that used in the Daylight fingerprinter\n",
    "rd_fp = [Chem.RDKFingerprint(m) for m in leads_data_covid[\"mol\"]]\n",
    "\n",
    "rd_fp_np = []\n",
    "for fp in rd_fp:\n",
    "  arr = np.zeros((1,))\n",
    "  DataStructs.ConvertToNumpyArray(fp, arr)\n",
    "  rd_fp_np.append(arr)"
   ]
  },
  {
   "cell_type": "code",
   "execution_count": 9,
   "metadata": {},
   "outputs": [],
   "source": [
    "#create a column for the Atom-pair fingerprints\n",
    "leads_data_covid[\"AP_fp\"] = [Chem.GetHashedAtomPairFingerprintAsBitVect(m) for m in leads_data_covid[\"mol\"]]\n",
    "\n",
    "#get atom-par fingerprints\n",
    "AP_fp = [Chem.GetHashedAtomPairFingerprintAsBitVect(m) for m in leads_data_covid[\"mol\"]]\n",
    "\n",
    "#convert the RDKit explicit vectors into numpy arrays\n",
    "AP_fp_np = []\n",
    "for fp in AP_fp:\n",
    "  arr = np.zeros((1,))\n",
    "  DataStructs.ConvertToNumpyArray(fp, arr)\n",
    "  AP_fp_np.append(arr)"
   ]
  },
  {
   "cell_type": "code",
   "execution_count": 10,
   "metadata": {},
   "outputs": [],
   "source": [
    "#create a column for the topological torsion fingerprints\n",
    "leads_data_covid[\"torsion_fp\"] = torsion_fp = [Chem.GetHashedTopologicalTorsionFingerprintAsBitVect(m) for m in leads_data_covid[\"mol\"]]\n",
    "\n",
    "#get topological torsion fingerprints\n",
    "torsion_fp = [Chem.GetHashedTopologicalTorsionFingerprintAsBitVect(m) for m in leads_data_covid[\"mol\"]]\n",
    "\n",
    "#convert the RDKit explicit vectors into numpy arrays\n",
    "torsion_fp_np = []\n",
    "for fp in torsion_fp:\n",
    "  arr = np.zeros((1,))\n",
    "  DataStructs.ConvertToNumpyArray(fp, arr)\n",
    "  torsion_fp_np.append(arr)"
   ]
  },
  {
   "cell_type": "code",
   "execution_count": 11,
   "metadata": {},
   "outputs": [],
   "source": [
    "#morgan fingerprints\n",
    "x_morg = morg_fp_np\n",
    "\n",
    "#daylight-like fingerprints\n",
    "x_rd = rd_fp_np\n",
    "\n",
    "#atom-pair fingerprints\n",
    "x_AP = AP_fp_np\n",
    "\n",
    "#topological torsion fingerprints\n",
    "x_torsion = torsion_fp_np\n",
    "\n",
    "#classification labels\n",
    "y = leads_data_covid.active.values"
   ]
  },
  {
   "cell_type": "code",
   "execution_count": 12,
   "metadata": {},
   "outputs": [
    {
     "data": {
      "image/png": "[encoded data removed]",
      "text/plain": [
       "<Figure size 360x360 with 1 Axes>"
      ]
     },
     "metadata": {
      "needs_background": "light"
     },
     "output_type": "display_data"
    }
   ],
   "source": [
    "#store the activity labels of all compounds\n",
    "y = leads_data_covid.active.values\n",
    "\n",
    "#return the count for each unique value (0 and 1)\n",
    "unique, counts = np.unique(y, return_counts=True)\n",
    "dict(zip(unique, counts))\n",
    "\n",
    "#plot the label counts \n",
    "count1 = sns.catplot(x=\"active\", kind=\"count\", palette=\"ch:.25\", data=leads_data_covid)\n",
    "\n"
   ]
  },
  {
   "cell_type": "code",
   "execution_count": 13,
   "metadata": {},
   "outputs": [
    {
     "name": "stdout",
     "output_type": "stream",
     "text": [
      "Morgan distribution: [(0, 1070), (1, 1003)] Daylight-like distribution: [(0, 1013), (1, 1003)] Atom-pair distribution: [(0, 1013), (1, 1003)] Torsion distribution: [(0, 1013), (1, 1003)]\n"
     ]
    }
   ],
   "source": [
    "x_morg_rsmp, y_morg_rsmp = ADASYN().fit_resample(x_morg, y)\n",
    "morg_sample_count = sorted(Counter(y_morg_rsmp).items())\n",
    "\n",
    "x_rd_rsmp, y_rd_rsmp = ADASYN().fit_resample(x_rd, y)\n",
    "rd_sample_count = sorted(Counter(y_rd_rsmp).items())\n",
    "\n",
    "x_AP_rsmp, y_AP_rsmp = ADASYN().fit_resample(x_AP, y)\n",
    "AP_sample_count = sorted(Counter(y_rd_rsmp).items())\n",
    "\n",
    "x_torsion_rsmp, y_torsion_rsmp = ADASYN().fit_resample(x_torsion, y)\n",
    "torsion_sample_count = sorted(Counter(y_rd_rsmp).items())\n",
    "\n",
    "print(\"Morgan distribution:\", morg_sample_count, \n",
    "      \"Daylight-like distribution:\", rd_sample_count, \n",
    "      \"Atom-pair distribution:\", AP_sample_count, \n",
    "      \"Torsion distribution:\", torsion_sample_count)\n"
   ]
  },
  {
   "cell_type": "code",
   "execution_count": 14,
   "metadata": {},
   "outputs": [],
   "source": [
    "#Logistic Regression\n",
    "#Creating training, testing, and validation test sets\n",
    "#Partitioning the data into an 85/15 train/test split\n",
    "x_morg_train, x_morg_test, y_morg_train, y_morg_test = train_test_split(x_morg_rsmp, y_morg_rsmp, test_size=0.15, random_state=1)\n",
    "#The training data is further split into an 80/15 train/validtion split \n",
    "x_morg_train, x_morg_val, y_morg_train, y_morg_val = train_test_split(x_morg_train, y_morg_train, test_size=0.15, random_state=1)\n",
    "\n",
    "x_rd_train, x_rd_test, y_rd_train, y_rd_test = train_test_split(x_rd_rsmp, y_rd_rsmp, test_size=0.15, random_state=1)\n",
    "x_rd_train, x_rd_val, y_rd_train, y_rd_val = train_test_split(x_rd_train, y_rd_train, test_size=0.15, random_state=1)\n",
    "\n",
    "x_AP_train, x_AP_test, y_AP_train, y_AP_test = train_test_split(x_AP_rsmp, y_AP_rsmp, test_size=0.15, random_state=1)\n",
    "x_AP_train, x_AP_val, y_AP_train, y_AP_val = train_test_split(x_AP_train, y_AP_train, test_size=0.15, random_state=1)\n",
    "\n",
    "x_torsion_train, x_torsion_test, y_torsion_train, y_torsion_test = train_test_split(x_torsion_rsmp, y_torsion_rsmp, test_size=0.15, random_state=1)\n",
    "x_torsion_train, x_torsion_val, y_torsion_train, y_torsion_val = train_test_split(x_torsion_train, y_torsion_train, test_size=0.15, random_state=1)"
   ]
  },
  {
   "cell_type": "code",
   "execution_count": 15,
   "metadata": {},
   "outputs": [
    {
     "name": "stdout",
     "output_type": "stream",
     "text": [
      "Accuracy of Model with Cross Validation is: 90.64519015659955 (+/- 0.03)\n"
     ]
    }
   ],
   "source": [
    "#set our linear regression function\n",
    "lr = LogisticRegression(solver = 'lbfgs', max_iter = 1000)\n",
    "#fit the data \n",
    "#perform 10 fold crossvalidation to estimate accuracy of model\n",
    "accuracy_morg = cross_val_score(lr, x_morg_train, y_morg_train, scoring='accuracy', cv = 10)\n",
    "\n",
    "#get the mean of each fold \n",
    "\n",
    "print(\"Accuracy of Model with Cross Validation is:\",accuracy_morg.mean() * 100, \"(+/- %0.2f)\" % accuracy_morg.std())\n",
    "\n",
    "#Create our model using 10 fold cross valiation, lbfgs, and 1000 iterations - and fit the data to out training set\n",
    "lr_morg_ = LogisticRegressionCV(cv=10, solver = 'lbfgs', max_iter = 1000).fit(x_morg_train, y_morg_train)"
   ]
  },
  {
   "cell_type": "code",
   "execution_count": 16,
   "metadata": {},
   "outputs": [],
   "source": [
    "# A function to train the logistic regression classifier on given x and y training sets\n",
    "def lrCV_model(x_train, y_train):\n",
    "    lr = LogisticRegression(solver = 'lbfgs', max_iter = 650)\n",
    "    model_accuracy = cross_val_score(lr, x_train, y_train, scoring='accuracy', cv = 5)\n",
    "    accuracy_printout = \"Accuracy of Model with Cross Validation is:\",model_accuracy.mean() * 100, \"(+/- %0.2f)\" % model_accuracy.std()\n",
    "    lr_fit = LogisticRegressionCV(cv=5, solver = 'lbfgs', max_iter = 650, multi_class = \"ovr\", n_jobs = -1).fit(x_train, y_train)\n",
    "    \n",
    "    return lr_fit"
   ]
  },
  {
   "cell_type": "code",
   "execution_count": 17,
   "metadata": {},
   "outputs": [],
   "source": [
    "#train logistic regression models for all fingerprints\n",
    "lr_morg = lrCV_model(x_morg_train, y_morg_train)\n",
    "lr_rd = lrCV_model(x_rd_train, y_rd_train)\n",
    "lr_AP = lrCV_model(x_AP_train, y_AP_train)\n",
    "lr_torsion = lrCV_model(x_torsion_train, y_torsion_train)"
   ]
  },
  {
   "cell_type": "code",
   "execution_count": 18,
   "metadata": {},
   "outputs": [
    {
     "name": "stdout",
     "output_type": "stream",
     "text": [
      "[[152   5]\n",
      " [ 18 136]]\n"
     ]
    }
   ],
   "source": [
    "#predicting using the test set and creating a confusion matrix\n",
    "predictions_morg_test = lr_morg.predict(x_morg_test)\n",
    "\n",
    "#confustion matrix for test set predictions\n",
    "cm_morg_test = metrics.confusion_matrix(y_morg_test, predictions_morg_test)\n",
    "\n",
    "print(cm_morg_test)"
   ]
  },
  {
   "cell_type": "code",
   "execution_count": 19,
   "metadata": {},
   "outputs": [
    {
     "name": "stdout",
     "output_type": "stream",
     "text": [
      "[[136   7]\n",
      " [ 10 112]]\n"
     ]
    }
   ],
   "source": [
    "#predicting using the validation set and creating a confusion matrix\n",
    "predictions_morg_val = lr_morg.predict(x_morg_val)\n",
    "\n",
    "#confustion matrix for validation set predictions\n",
    "cm_morg_val = metrics.confusion_matrix(y_morg_val, predictions_morg_val)\n",
    "\n",
    "print(cm_morg_val)"
   ]
  },
  {
   "cell_type": "code",
   "execution_count": 20,
   "metadata": {},
   "outputs": [
    {
     "name": "stdout",
     "output_type": "stream",
     "text": [
      "Accuracy of logistic regression classifier on train set: 0.9906479625918504\n"
     ]
    }
   ],
   "source": [
    "score_morg_train = lr_morg.score(x_morg_train, y_morg_train)\n",
    "print('Accuracy of logistic regression classifier on train set:', score_morg_train)"
   ]
  },
  {
   "cell_type": "code",
   "execution_count": 21,
   "metadata": {},
   "outputs": [
    {
     "name": "stdout",
     "output_type": "stream",
     "text": [
      "Accuracy of logistic regression classifier on test set: 0.9260450160771704\n"
     ]
    }
   ],
   "source": [
    "score_morg_test = lr_morg.score(x_morg_test, y_morg_test)\n",
    "print('Accuracy of logistic regression classifier on test set:', score_morg_test)"
   ]
  },
  {
   "cell_type": "code",
   "execution_count": 22,
   "metadata": {},
   "outputs": [
    {
     "name": "stdout",
     "output_type": "stream",
     "text": [
      "Accuracy of logistic regression classifier on test set: 0.9358490566037736\n"
     ]
    }
   ],
   "source": [
    "score_morg_val = lr_morg.score(x_morg_val, y_morg_val)\n",
    "print('Accuracy of logistic regression classifier on test set:', score_morg_val)"
   ]
  },
  {
   "cell_type": "code",
   "execution_count": 23,
   "metadata": {},
   "outputs": [
    {
     "name": "stdout",
     "output_type": "stream",
     "text": [
      "              precision    recall  f1-score   support\n",
      "\n",
      "           0       0.93      0.95      0.94       143\n",
      "           1       0.94      0.92      0.93       122\n",
      "\n",
      "    accuracy                           0.94       265\n",
      "   macro avg       0.94      0.93      0.94       265\n",
      "weighted avg       0.94      0.94      0.94       265\n",
      "\n"
     ]
    }
   ],
   "source": [
    "print(classification_report(y_morg_val, predictions_morg_val))"
   ]
  },
  {
   "cell_type": "code",
   "execution_count": 24,
   "metadata": {},
   "outputs": [
    {
     "data": {
      "image/png": "[encoded data removed]",
      "text/plain": [
       "<Figure size 648x648 with 2 Axes>"
      ]
     },
     "metadata": {
      "needs_background": "light"
     },
     "output_type": "display_data"
    }
   ],
   "source": [
    "plt.figure(figsize=(9,9))\n",
    "sns.heatmap(cm_morg_test, annot=True, fmt=\".3f\", linewidths=.5, square = True, cmap = 'Blues_r');\n",
    "plt.ylabel('Actual label');\n",
    "plt.xlabel('Predicted label');\n",
    "all_sample_title = 'Accuracy Score: {0}'.format(score_morg_test)\n",
    "plt.title(all_sample_title, size = 15);"
   ]
  },
  {
   "cell_type": "code",
   "execution_count": 25,
   "metadata": {},
   "outputs": [
    {
     "data": {
      "image/png": "[encoded data removed]",
      "text/plain": [
       "<Figure size 648x648 with 2 Axes>"
      ]
     },
     "metadata": {
      "needs_background": "light"
     },
     "output_type": "display_data"
    }
   ],
   "source": [
    "plt.figure(figsize=(9,9))\n",
    "sns.heatmap(cm_morg_val, annot=True, fmt=\".3f\", linewidths=.5, square = True, cmap = 'Blues_r');\n",
    "plt.ylabel('Actual label');\n",
    "plt.xlabel('Predicted label');\n",
    "all_sample_title = 'Accuracy Score: {0}'.format(score_morg_val)\n",
    "plt.title(all_sample_title, size = 15);"
   ]
  },
  {
   "cell_type": "code",
   "execution_count": 26,
   "metadata": {},
   "outputs": [
    {
     "name": "stdout",
     "output_type": "stream",
     "text": [
      "[[117   2]\n",
      " [ 20 118]]\n",
      "Accuracy of logistic regression classifier on train set: 0.9938186813186813\n",
      "Accuracy of logistic regression classifier on test set: 0.9174917491749175\n",
      "Accuracy of logistic regression classifier on validation set: 0.914396887159533\n",
      "              precision    recall  f1-score   support\n",
      "\n",
      "           0       0.85      0.98      0.91       119\n",
      "           1       0.98      0.86      0.91       138\n",
      "\n",
      "    accuracy                           0.91       257\n",
      "   macro avg       0.92      0.92      0.91       257\n",
      "weighted avg       0.92      0.91      0.91       257\n",
      "\n"
     ]
    }
   ],
   "source": [
    "#predicting using the test set and creating a confusion matrix\n",
    "predictions_rd_test = lr_rd.predict(x_rd_test)\n",
    "\n",
    "#confustion matrix for test set predictions\n",
    "cm_rd_test = metrics.confusion_matrix(y_rd_test, predictions_rd_test)\n",
    "\n",
    "#predicting using the validation set and creating a confusion matrix\n",
    "predictions_rd_val = lr_rd.predict(x_rd_val)\n",
    "\n",
    "#confustion matrix for test validation predictions\n",
    "cm_rd_val = metrics.confusion_matrix(y_rd_val, predictions_rd_val)\n",
    "\n",
    "print(cm_rd_val)\n",
    "\n",
    "score_rd_train = lr_rd.score(x_rd_train, y_rd_train)\n",
    "print('Accuracy of logistic regression classifier on train set:', score_rd_train)\n",
    "\n",
    "score_rd_test = lr_rd.score(x_rd_test, y_rd_test)\n",
    "print('Accuracy of logistic regression classifier on test set:', score_rd_test)\n",
    "\n",
    "score_rd_val = lr_rd.score(x_rd_val, y_rd_val)\n",
    "print('Accuracy of logistic regression classifier on validation set:', score_rd_val)\n",
    "\n",
    "print(classification_report(y_rd_val, predictions_rd_val))"
   ]
  },
  {
   "cell_type": "code",
   "execution_count": 27,
   "metadata": {},
   "outputs": [
    {
     "name": "stdout",
     "output_type": "stream",
     "text": [
      "[[149   3]\n",
      " [ 22 127]]\n",
      "[[131   3]\n",
      " [ 13 109]]\n",
      "Accuracy of logistic regression classifier on train set: 0.9930843706777317\n",
      "Accuracy of logistic regression classifier on test set: 0.9169435215946844\n",
      "Accuracy of logistic regression classifier on validation set: 0.9375\n",
      "              precision    recall  f1-score   support\n",
      "\n",
      "           0       0.91      0.98      0.94       134\n",
      "           1       0.97      0.89      0.93       122\n",
      "\n",
      "    accuracy                           0.94       256\n",
      "   macro avg       0.94      0.94      0.94       256\n",
      "weighted avg       0.94      0.94      0.94       256\n",
      "\n"
     ]
    }
   ],
   "source": [
    "#predicting using the test set and creating a confusion matrix\n",
    "predictions_AP_test = lr_AP.predict(x_AP_test)\n",
    "\n",
    "#confustion matrix for test set predictions\n",
    "cm_AP_test = metrics.confusion_matrix(y_AP_test, predictions_AP_test)\n",
    "\n",
    "print(cm_AP_test)\n",
    "\n",
    "#predicting using the validation set and creating a confusion matrix\n",
    "predictions_AP_val = lr_AP.predict(x_AP_val)\n",
    "\n",
    "#confustion matrix for test validation predictions\n",
    "cm_AP_val = metrics.confusion_matrix(y_AP_val, predictions_AP_val)\n",
    "\n",
    "print(cm_AP_val)\n",
    "\n",
    "score_AP_train = lr_AP.score(x_AP_train, y_AP_train)\n",
    "print('Accuracy of logistic regression classifier on train set:', score_AP_train)\n",
    "\n",
    "score_AP_test = lr_AP.score(x_AP_test, y_AP_test)\n",
    "print('Accuracy of logistic regression classifier on test set:', score_AP_test)\n",
    "\n",
    "score_AP_val = lr_AP.score(x_AP_val, y_AP_val)\n",
    "print('Accuracy of logistic regression classifier on validation set:', score_AP_val)\n",
    "\n",
    "print(classification_report(y_AP_val, predictions_AP_val))"
   ]
  },
  {
   "cell_type": "code",
   "execution_count": 28,
   "metadata": {},
   "outputs": [
    {
     "name": "stdout",
     "output_type": "stream",
     "text": [
      "[[152   9]\n",
      " [ 25 111]]\n",
      "[[105   2]\n",
      " [ 29 116]]\n",
      "Accuracy of logistic regression classifier on train set: 0.9915907498248073\n",
      "Accuracy of logistic regression classifier on test set: 0.8855218855218855\n",
      "Accuracy of logistic regression classifier on validation set: 0.876984126984127\n",
      "              precision    recall  f1-score   support\n",
      "\n",
      "           0       0.78      0.98      0.87       107\n",
      "           1       0.98      0.80      0.88       145\n",
      "\n",
      "    accuracy                           0.88       252\n",
      "   macro avg       0.88      0.89      0.88       252\n",
      "weighted avg       0.90      0.88      0.88       252\n",
      "\n"
     ]
    }
   ],
   "source": [
    "#predicting using the test set and creating a confusion matrix\n",
    "predictions_torsion_test = lr_torsion.predict(x_torsion_test)\n",
    "\n",
    "#confustion matrix for test set predictions\n",
    "cm_torsion_test = metrics.confusion_matrix(y_torsion_test, predictions_torsion_test)\n",
    "\n",
    "print(cm_torsion_test)\n",
    "\n",
    "#predicting using the validation set and creating a confusion matrix\n",
    "predictions_torsion_val = lr_torsion.predict(x_torsion_val)\n",
    "\n",
    "#confustion matrix for test validation predictions\n",
    "cm_torsion_val = metrics.confusion_matrix(y_torsion_val, predictions_torsion_val)\n",
    "\n",
    "print(cm_torsion_val)\n",
    "\n",
    "score_torsion_train = lr_torsion.score(x_torsion_train, y_torsion_train)\n",
    "print('Accuracy of logistic regression classifier on train set:', score_torsion_train)\n",
    "\n",
    "score_torsion_test = lr_torsion.score(x_torsion_test, y_torsion_test)\n",
    "print('Accuracy of logistic regression classifier on test set:', score_torsion_test)\n",
    "\n",
    "score_torsion_val = lr_torsion.score(x_torsion_val, y_torsion_val)\n",
    "print('Accuracy of logistic regression classifier on validation set:', score_torsion_val)\n",
    "\n",
    "print(classification_report(y_torsion_val, predictions_torsion_val))"
   ]
  },
  {
   "cell_type": "code",
   "execution_count": 29,
   "metadata": {},
   "outputs": [
    {
     "name": "stdout",
     "output_type": "stream",
     "text": [
      "Fitting 2 folds for each of 3 candidates, totalling 6 fits\n"
     ]
    },
    {
     "name": "stderr",
     "output_type": "stream",
     "text": [
      "[Parallel(n_jobs=-1)]: Using backend LokyBackend with 4 concurrent workers.\n",
      "[Parallel(n_jobs=-1)]: Done   6 out of   6 | elapsed:  2.9min remaining:    0.0s\n",
      "[Parallel(n_jobs=-1)]: Done   6 out of   6 | elapsed:  2.9min finished\n"
     ]
    },
    {
     "data": {
      "text/plain": [
       "0.6706749819723982"
      ]
     },
     "execution_count": 29,
     "metadata": {},
     "output_type": "execute_result"
    }
   ],
   "source": [
    "knn = KNeighborsClassifier()\n",
    "grid_params = {'n_neighbors': [3, 5, 7], 'weights': ['distance'], 'metric': ['euclidean']}\n",
    "knn_cv = GridSearchCV(knn, grid_params, cv=2, verbose = 1, n_jobs = -1)\n",
    "\n",
    "knn_morg = knn_cv.fit(x_morg_train, y_morg_train)\n",
    " \n",
    "knn_cv.best_params_\n",
    "knn_cv.best_score_"
   ]
  },
  {
   "cell_type": "code",
   "execution_count": 30,
   "metadata": {},
   "outputs": [
    {
     "name": "stdout",
     "output_type": "stream",
     "text": [
      "0.8438538205980066\n",
      "0.7973421926910299\n",
      "0.7774086378737541\n"
     ]
    }
   ],
   "source": [
    "knn_3n = KNeighborsClassifier(n_neighbors=3)\n",
    "knn_AP = knn_3n.fit(x_AP_train, y_AP_train)\n",
    "\n",
    "knn_5n = KNeighborsClassifier(n_neighbors=5)\n",
    "knn_AP5 = knn_5n.fit(x_AP_train, y_AP_train)\n",
    "\n",
    "knn_7n = KNeighborsClassifier(n_neighbors=7)\n",
    "knn_AP7 = knn_7n.fit(x_AP_train, y_AP_train)\n",
    "\n",
    "\n",
    "knn_AP_3n = knn_AP.score(x_AP_test, y_AP_test)\n",
    "print(knn_AP_3n)\n",
    "knn_AP_5n = knn_AP5.score(x_AP_test, y_AP_test)\n",
    "print(knn_AP_5n)\n",
    "knn_AP_7n = knn_AP7.score(x_AP_test, y_AP_test)\n",
    "print(knn_AP_7n)\n"
   ]
  },
  {
   "cell_type": "code",
   "execution_count": 31,
   "metadata": {},
   "outputs": [],
   "source": [
    "knn3 = KNeighborsClassifier(n_neighbors=3)\n",
    "\n",
    "knn_morg = knn3.fit(x_morg_train, y_morg_train)\n",
    "knn_rd = knn3.fit(x_rd_train, y_rd_train)\n",
    "knn_AP = knn3.fit(x_AP_train, y_AP_train)\n",
    "knn_torsion = knn3.fit(x_torsion_train, y_torsion_train)\n",
    "\n",
    "def mod_acc_knn(x_train, y_train, x_test, y_test):\n",
    "    knn3 = KNeighborsClassifier(n_neighbors=3)\n",
    "    knn_fp = knn3.fit(x_train, y_train)\n",
    "    score_fp_test_knn = knn_fp.score(x_test, y_test)\n",
    "    return score_fp_test_knn"
   ]
  },
  {
   "cell_type": "code",
   "execution_count": 32,
   "metadata": {},
   "outputs": [
    {
     "name": "stdout",
     "output_type": "stream",
     "text": [
      "0.8450233800935204\n",
      "0.8509615384615384\n",
      "0.8789764868603043\n",
      "0.8535388927820603\n"
     ]
    }
   ],
   "source": [
    "knn_morg_acc_train = mod_acc_knn(x_morg_train, y_morg_train, x_morg_train, y_morg_train)\n",
    "print(knn_morg_acc_train)\n",
    "knn_rd_acc_train = mod_acc_knn(x_rd_train, y_rd_train, x_rd_train, y_rd_train)\n",
    "print(knn_rd_acc_train)\n",
    "knn_AP_acc_train = mod_acc_knn(x_AP_train, y_AP_train, x_AP_train, y_AP_train)\n",
    "print(knn_AP_acc_train)\n",
    "knn_torsion_acc_train = mod_acc_knn(x_torsion_train, y_torsion_train, x_torsion_train, y_torsion_train)\n",
    "print(knn_torsion_acc_train)"
   ]
  },
  {
   "cell_type": "code",
   "execution_count": 33,
   "metadata": {},
   "outputs": [
    {
     "name": "stdout",
     "output_type": "stream",
     "text": [
      "0.7459807073954984\n",
      "0.7854785478547854\n",
      "0.8438538205980066\n",
      "0.7946127946127947\n"
     ]
    }
   ],
   "source": [
    "knn_morg_acc_test = mod_acc_knn(x_morg_train, y_morg_train, x_morg_test, y_morg_test)\n",
    "print(knn_morg_acc_test)\n",
    "knn_rd_acc_test = mod_acc_knn(x_rd_train, y_rd_train, x_rd_test, y_rd_test)\n",
    "print(knn_rd_acc_test)\n",
    "knn_AP_acc_test = mod_acc_knn(x_AP_train, y_AP_train, x_AP_test, y_AP_test)\n",
    "print(knn_AP_acc_test)\n",
    "knn_torsion_acc_test = mod_acc_knn(x_torsion_train, y_torsion_train, x_torsion_test, y_torsion_test)\n",
    "print(knn_torsion_acc_test)"
   ]
  },
  {
   "cell_type": "code",
   "execution_count": 34,
   "metadata": {},
   "outputs": [
    {
     "name": "stdout",
     "output_type": "stream",
     "text": [
      "0.7471698113207547\n",
      "0.7665369649805448\n",
      "0.8515625\n",
      "0.746031746031746\n"
     ]
    }
   ],
   "source": [
    "knn_morg_acc_val = mod_acc_knn(x_morg_train, y_morg_train, x_morg_val, y_morg_val)\n",
    "print(knn_morg_acc_val)\n",
    "knn_rd_acc_val = mod_acc_knn(x_rd_train, y_rd_train, x_rd_val, y_rd_val)\n",
    "print(knn_rd_acc_val)\n",
    "knn_AP_acc_val = mod_acc_knn(x_AP_train, y_AP_train, x_AP_val, y_AP_val)\n",
    "print(knn_AP_acc_val)\n",
    "knn_torsion_acc_val = mod_acc_knn(x_torsion_train, y_torsion_train, x_torsion_val, y_torsion_val)\n",
    "print(knn_torsion_acc_val)"
   ]
  },
  {
   "cell_type": "code",
   "execution_count": 35,
   "metadata": {},
   "outputs": [],
   "source": [
    "def auc_calc(x_val, y_val, model):\n",
    "    # Probability predictions using validation data\n",
    "    prob = model.predict_proba(x_val)\n",
    "    # Correct probability predictions\n",
    "    prob = prob[:, 1]\n",
    "    # Calculate area under the curve with validation data labels and correct predicted probabilities\n",
    "    auc = metrics.roc_auc_score(y_val, prob)\n",
    "    # Return the AUC score with 6 figures\n",
    "    return 'AUC: %.6f' % auc"
   ]
  },
  {
   "cell_type": "code",
   "execution_count": 36,
   "metadata": {},
   "outputs": [
    {
     "name": "stdout",
     "output_type": "stream",
     "text": [
      "AUC using logistic regression:  AUC: 0.978448\n",
      "AUC using k-nearest naighbor:  AUC: 0.430958\n"
     ]
    }
   ],
   "source": [
    "morg_lr_auc = auc_calc(x_morg_val, y_morg_val, lr_morg)\n",
    "print(\"AUC using logistic regression: \", morg_lr_auc)\n",
    "morg_knn_auc = auc_calc(x_morg_val, y_morg_val, knn_morg)\n",
    "print(\"AUC using k-nearest naighbor: \", morg_knn_auc)\n"
   ]
  },
  {
   "cell_type": "code",
   "execution_count": 37,
   "metadata": {},
   "outputs": [
    {
     "name": "stdout",
     "output_type": "stream",
     "text": [
      "AUC using logistic regression:  AUC: 0.951468\n",
      "AUC using k-nearest neighbor:  AUC: 0.490074\n"
     ]
    }
   ],
   "source": [
    "rd_lr_auc = auc_calc(x_rd_val, y_rd_val, lr_rd)\n",
    "print(\"AUC using logistic regression: \", rd_lr_auc)\n",
    "rd_knn_auc = auc_calc(x_rd_val, y_rd_val, knn_rd)\n",
    "print(\"AUC using k-nearest neighbor: \", rd_knn_auc)\n"
   ]
  },
  {
   "cell_type": "code",
   "execution_count": 38,
   "metadata": {},
   "outputs": [
    {
     "name": "stdout",
     "output_type": "stream",
     "text": [
      "AUC using logistic regression:  AUC: 0.957824\n",
      "AUC using k-nearest naighbor:  AUC: 0.492048\n"
     ]
    }
   ],
   "source": [
    "AP_lr_auc = auc_calc(x_AP_val, y_AP_val, lr_AP)\n",
    "print(\"AUC using logistic regression: \", AP_lr_auc)\n",
    "AP_knn_auc = auc_calc(x_AP_val, y_AP_val, knn_AP)\n",
    "print(\"AUC using k-nearest naighbor: \", AP_knn_auc)\n"
   ]
  },
  {
   "cell_type": "code",
   "execution_count": 39,
   "metadata": {},
   "outputs": [
    {
     "name": "stdout",
     "output_type": "stream",
     "text": [
      "AUC using logistic regression:  AUC: 0.921560\n",
      "AUC using k-nearest naighbor:  AUC: 0.859845\n"
     ]
    }
   ],
   "source": [
    "torsion_lr_auc = auc_calc(x_torsion_val, y_torsion_val, lr_torsion)\n",
    "print(\"AUC using logistic regression: \", torsion_lr_auc)\n",
    "torsion_knn_auc = auc_calc(x_torsion_val, y_torsion_val, knn_torsion)\n",
    "print(\"AUC using k-nearest naighbor: \", torsion_knn_auc)\n"
   ]
  },
  {
   "cell_type": "code",
   "execution_count": 40,
   "metadata": {},
   "outputs": [
    {
     "name": "stdout",
     "output_type": "stream",
     "text": [
      "f1-score 0.935783\n",
      "f1-score 0.386680\n"
     ]
    }
   ],
   "source": [
    "def f1score(x_val, y_val, model):\n",
    "    #predictions made on validation data\n",
    "    predictions = model.predict(x_val)\n",
    "    #generating the classification report\n",
    "    clrpt = classification_report(y_val, predictions, output_dict = True)\n",
    "    #accessing the weighted average entery in dictionairy\n",
    "    d = clrpt[\"weighted avg\"]\n",
    "    #calling the f1_score\n",
    "    f1 = d['f1-score']\n",
    "    return 'f1-score %.6f' % f1\n",
    "#Morgan fingerprint f-scores for all three models using validation data\n",
    "morg_lr_f1 = f1score(x_morg_val, y_morg_val, lr_morg)\n",
    "morg_knn_f1 = f1score(x_morg_val, y_morg_val, knn_morg)\n",
    "\n",
    "print(morg_lr_f1)\n",
    "print(morg_knn_f1)\n"
   ]
  },
  {
   "cell_type": "code",
   "execution_count": 41,
   "metadata": {},
   "outputs": [
    {
     "name": "stdout",
     "output_type": "stream",
     "text": [
      "f1-score 0.914420\n",
      "f1-score 0.312709\n"
     ]
    }
   ],
   "source": [
    "#Daylight-like fingerprint f-scores for all three models using validation data\n",
    "rd_lr_f1 = f1score(x_rd_val, y_rd_val, lr_rd)\n",
    "rd_knn_f1 = f1score(x_rd_val, y_rd_val, knn_rd)\n",
    "print(rd_lr_f1)\n",
    "print(rd_knn_f1)\n",
    "\n"
   ]
  },
  {
   "cell_type": "code",
   "execution_count": 42,
   "metadata": {},
   "outputs": [
    {
     "name": "stdout",
     "output_type": "stream",
     "text": [
      "f1-score 0.937289\n",
      "f1-score 0.371219\n"
     ]
    }
   ],
   "source": [
    "#Atom-pair fingerprint f-scores for all three models using validation data\n",
    "AP_lr_f1 = f1score(x_AP_val, y_AP_val, lr_AP)\n",
    "AP_knn_f1 = f1score(x_AP_val, y_AP_val, knn_AP)\n",
    "\n",
    "print(AP_lr_f1)\n",
    "print(AP_knn_f1)\n"
   ]
  },
  {
   "cell_type": "code",
   "execution_count": 43,
   "metadata": {},
   "outputs": [
    {
     "name": "stdout",
     "output_type": "stream",
     "text": [
      "f1-score 0.877561\n",
      "f1-score 0.740712\n"
     ]
    }
   ],
   "source": [
    "#Topological torsion fingerprint f-scores for all three models using validation data\n",
    "torsion_lr_f1 = f1score(x_torsion_val, y_torsion_val, lr_torsion)\n",
    "torsion_knn_f1 = f1score(x_torsion_val, y_torsion_val, knn_torsion)\n",
    "\n",
    "print(torsion_lr_f1)\n",
    "print(torsion_knn_f1)\n"
   ]
  }
 ],
 "metadata": {
  "kernelspec": {
   "display_name": "Python 3",
   "language": "python",
   "name": "python3"
  },
  "language_info": {
   "codemirror_mode": {
    "name": "ipython",
    "version": 3
   },
   "file_extension": ".py",
   "mimetype": "text/x-python",
   "name": "python",
   "nbconvert_exporter": "python",
   "pygments_lexer": "ipython3",
   "version": "3.7.3"
  }
 },
 "nbformat": 4,
 "nbformat_minor": 4
}
